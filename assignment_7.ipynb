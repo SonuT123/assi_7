{
  "metadata": {
    "language_info": {
      "codemirror_mode": {
        "name": "python",
        "version": 3
      },
      "file_extension": ".py",
      "mimetype": "text/x-python",
      "name": "python",
      "nbconvert_exporter": "python",
      "pygments_lexer": "ipython3",
      "version": "3.8"
    },
    "kernelspec": {
      "name": "python",
      "display_name": "Python (Pyodide)",
      "language": "python"
    }
  },
  "nbformat_minor": 4,
  "nbformat": 4,
  "cells": [
    {
      "cell_type": "markdown",
      "source": "                                            Statistics Advance-7",
      "metadata": {}
    },
    {
      "cell_type": "markdown",
      "source": "Q1. Write a Python function that takes in two arrays of data and calculates the F-value for a variance ratio\n    test. The function should return the F-value and the corresponding p-value for the test.",
      "metadata": {}
    },
    {
      "cell_type": "code",
      "source": "import numpy as np\nimport scipy.stats as stats\n\ndef variance_ratio_test(data1, data2):\n    \"\"\"\n    Perform a variance ratio test (F-test) on two arrays of data.\n\n    Parameters:\n        data1 (array-like): First data array.\n        data2 (array-like): Second data array.\n\n    Returns:\n        f_value (float): The calculated F-value.\n        p_value (float): The corresponding p-value.\n    \"\"\"\n    \n    variance1 = np.var(data1, ddof=1)  \n    variance2 = np.var(data2, ddof=1)\n\n    \n    if variance2 > variance1:\n        variance1, variance2 = variance2, variance1\n        data1, data2 = data2, data1\n\n    \n    f_value = variance1 / variance2\n\n    \n    df1 = len(data1) - 1\n    df2 = len(data2) - 1\n\n    \n    p_value = 1 - stats.f.cdf(f_value, df1, df2)\n\n    return f_value, p_value\n\n\ndata_group1 = [13, 14, 15, 14, 16]\ndata_group2 = [10, 11, 12, 11, 13]\n\nf_value, p_value = variance_ratio_test(data_group1, data_group2)\nprint(\"F-value:\", f_value)\nprint(\"p-value:\", p_value)\n",
      "metadata": {
        "trusted": true
      },
      "execution_count": 1,
      "outputs": [
        {
          "name": "stdout",
          "text": "F-value: 1.0\np-value: 0.5\n",
          "output_type": "stream"
        }
      ]
    },
    {
      "cell_type": "markdown",
      "source": "Q2. Given a significance level of 0.05 and the degrees of freedom for the numerator and denominator of an\nF-distribution, write a Python function that returns the critical F-value for a two-tailed test.",
      "metadata": {}
    },
    {
      "cell_type": "code",
      "source": "import scipy.stats as stats\n\ndef critical_f_value(alpha, dfn, dfd):\n    \"\"\"\n    Calculate the critical F-value for a two-tailed test at a given significance level.\n\n    Parameters:\n        alpha (float): Significance level (e.g., 0.05 for a 95% confidence level).\n        dfn (int): Degrees of freedom for the numerator.\n        dfd (int): Degrees of freedom for the denominator.\n\n    Returns:\n        critical_f (float): The critical F-value for the specified significance level.\n    \"\"\"\n    \n    alpha_over_2 = alpha / 2  \n    critical_f = stats.f.ppf(1 - alpha_over_2, dfn, dfd)\n    \n    return critical_f\n\n\nalpha = 0.05\ndfn = 3  \ndfd = 20  \n\ncritical_f = critical_f_value(alpha, dfn, dfd)\nprint(\"Critical F-value:\", critical_f)\n",
      "metadata": {
        "trusted": true
      },
      "execution_count": 3,
      "outputs": [
        {
          "name": "stdout",
          "text": "Critical F-value: 3.8586986662732143\n",
          "output_type": "stream"
        }
      ]
    },
    {
      "cell_type": "markdown",
      "source": "Q3. Write a Python program that generates random samples from two normal distributions with known\n\nvariances and uses an F-test to determine if the variances are equal. The program should output the F-\nvalue, degrees of freedom, and p-value for the test.",
      "metadata": {}
    },
    {
      "cell_type": "code",
      "source": "import numpy as np\nimport scipy.stats as stats\n\nnp.random.seed(0)\n\nvariance1 = 4.0  \nvariance2 = 9.0  \n\nsample_size1 = 30  \nsample_size2 = 30  \n\ndata1 = np.random.normal(0, np.sqrt(variance1), size=sample_size1)\ndata2 = np.random.normal(0, np.sqrt(variance2), size=sample_size2)\n\n\nf_statistic = np.var(data1, ddof=1) / np.var(data2, ddof=1)  \ndfn = sample_size1 - 1  \ndfd = sample_size2 - 1  \n\n\np_value = 1 - stats.f.cdf(f_statistic, dfn, dfd)\n\n\nprint(\"F-value:\", f_statistic)\nprint(\"Degrees of freedom (numerator):\", dfn)\nprint(\"Degrees of freedom (denominator):\", dfd)\nprint(\"p-value:\", p_value)\n",
      "metadata": {
        "trusted": true
      },
      "execution_count": 4,
      "outputs": [
        {
          "name": "stdout",
          "text": "F-value: 0.643788359078332\nDegrees of freedom (numerator): 29\nDegrees of freedom (denominator): 29\np-value: 0.8791884903269248\n",
          "output_type": "stream"
        }
      ]
    },
    {
      "cell_type": "markdown",
      "source": "Q4.The variances of two populations are known to be 10 and 15. A sample of 12 observations is taken from\neach population. Conduct an F-test at the 5% significance level to determine if the variances are\nsignificantly different.",
      "metadata": {}
    },
    {
      "cell_type": "markdown",
      "source": "To conduct an F-test at the 5% significance level to determine if the variances of two populations\n\n 1.Calculate the F-statistic:\n        F = s_1^2 / s_2^2\n        \n      where s_1^2 is the variance of the first population and s_2^2 is the variance of the second population.\n    \n    the F-statistic is:\n    \n    F = 10 / 15 = 0.67\n        \n 2.Find the critical value of F from the F-distribution table, \n         with degrees of freedom df_1 = n_1 - 1 = 12 - 1 = 11 and df_2 = n_2 - 1 = 12 - 1 = 11.\n    \n   At the 5% significance level, the critical value of F is 2.79.\n\n 3.Compare the F-statistic to the critical value of F. If the F-statistic is greater than the critical value of F,\n    then we reject the null hypothesis and conclude that the variances of the two populations are significantly different.\n    Otherwise, we fail to reject the null hypothesis and conclude that the variances of the two populations\n    are not significantly different.  \n\n     the F-statistic (0.67) is less than the critical value of F (2.79). Therefore, we fail to reject the null hypothesis\n        and conclude that the variances of the two populations are not significantly different\n        \n     Conclusion:\n        There is not enough evidence to conclude that the variances of the two populations are significantly different\n        at the 5% significance level.",
      "metadata": {}
    },
    {
      "cell_type": "markdown",
      "source": "Q5. A manufacturer claims that the variance of the diameter of a certain product is 0.005. A sample of 25\nproducts is taken, and the sample variance is found to be 0.006. Conduct an F-test at the 1% significance\nlevel to determine if the claim is justified.",
      "metadata": {}
    },
    {
      "cell_type": "markdown",
      "source": "To conduct an F-test at the 1% significance level to determine if the manufacturer's claim is justified\n\n   1.Calculate the F-statistic:\n          F = s^2 / 0.005\n        \n        where s^2 is the sample variance.\n\n        case, the F-statistic is:\n\n            F = 0.006 / 0.005 = 1.20\n            \n    2.Find the critical value of F from the F-distribution table,\n       with degrees of freedom df_1 = n - 1 = 25 - 1 = 24 and df_2 = 1 \n        \n        At the 1% significance level, the critical value of F is 8.53.\n        \n        3.Compare the F-statistic to the critical value of F.\n           If the F-statistic is greater than the critical value of F,\n            then we reject the null hypothesis and conclude that the manufacturer's claim is not justified.\n            Otherwise, we fail to reject the null hypothesis and conclude that the manufacturer's claim is justified.\n            \n           the F-statistic (1.20) is less than the critical value of F (8.53). Therefore, we fail to reject\n                the null hypothesis and conclude that the manufacturer's claim is justified.\n            \n        Conclusion:\n            There is not enough evidence to reject the manufacturer's claim that the variance of the diameter \n            of the product is 0.005 at the 1% significance level.\n         \n        \n        Interpretation:\n\n         This means that we cannot say with 99% confidence that the manufacturer's claim is false. However,\n          we should note that the sample variance (0.006) is slightly higher than the claimed variance (0.005).\n            This suggests that the variance of the product may be slightly higher than claimed.\n            \n            ",
      "metadata": {}
    },
    {
      "cell_type": "markdown",
      "source": "Q6. Write a Python function that takes in the degrees of freedom for the numerator and denominator of an\nF-distribution and calculates the mean and variance of the distribution. The function should return the\nmean and variance as a tuple.",
      "metadata": {}
    },
    {
      "cell_type": "code",
      "source": "import numpy as np\n\ndef calculate_mean_and_variance_of_f_distribution(df1, df2):\n  \"\"\"Calculates the mean and variance of the F-distribution.\n\n  Args:\n    df1: The degrees of freedom for the numerator.\n    df2: The degrees of freedom for the denominator.\n\n  Returns:\n    A tuple containing the mean and variance of the F-distribution.\n  \"\"\"\n\n  mean = df2 / (df2 - 2)\n  variance = (2 * df2**2 * (df1 + df2 - 2)) / ((df1 - 2) * (df2 - 2) * (df2 - 4))\n  return mean, variance\n\n\n\ndf1 = 25 - 1\ndf2 = 25 - 1\n\nmean, variance = calculate_mean_and_variance_of_f_distribution(df1, df2)\n\nprint(\"Mean:\", mean)\nprint(\"Variance:\", variance)\n",
      "metadata": {
        "trusted": true
      },
      "execution_count": 5,
      "outputs": [
        {
          "name": "stdout",
          "text": "Mean: 1.0909090909090908\nVariance: 5.474380165289256\n",
          "output_type": "stream"
        }
      ]
    },
    {
      "cell_type": "markdown",
      "source": "Q7. A random sample of 10 measurements is taken from a normal population with unknown variance. The\nsample variance is found to be 25. Another random sample of 15 measurements is taken from another\nnormal population with unknown variance, and the sample variance is found to be 20. Conduct an F-test\nat the 10% significance level to determine if the variances are significantly different.",
      "metadata": {}
    },
    {
      "cell_type": "code",
      "source": "import scipy.stats as stats\n\ndef f_distribution_mean_and_variance(dfn, dfd):\n    \"\"\"\n    Calculate the mean and variance of an F-distribution.\n\n    Parameters:\n        dfn (int): Degrees of freedom for the numerator.\n        dfd (int): Degrees of freedom for the denominator.\n\n    Returns:\n        (float, float): A tuple containing the mean and variance of the F-distribution.\n    \"\"\"\n\n    mean = dfd / (dfd - 2) if dfd > 2 else None\n\n    \n    variance = (2 * dfd**2 * (dfn + dfd - 2)) / (dfn * (dfd - 2)**2 * (dfd - 4)) if dfd > 4 else None\n\n    return mean, variance\n\n\ndfn = 5  \ndfd = 10  \n\nmean, variance = f_distribution_mean_and_variance(dfn, dfd)\nprint(\"Mean:\", mean)\nprint(\"Variance:\", variance)\n",
      "metadata": {
        "trusted": true
      },
      "execution_count": 6,
      "outputs": [
        {
          "name": "stdout",
          "text": "Mean: 1.25\nVariance: 1.3541666666666667\n",
          "output_type": "stream"
        }
      ]
    },
    {
      "cell_type": "markdown",
      "source": "This function can be used to calculate the mean and variance of the F-distribution for\nany given degrees of freedom. It can be used for a variety of statistical applications,\nsuch as hypothesis testing and power analysis.",
      "metadata": {}
    },
    {
      "cell_type": "markdown",
      "source": "Q8. The following data represent the waiting times in minutes at two different restaurants on a Saturday\nnight: Restaurant A: 24, 25, 28, 23, 22, 20, 27; Restaurant B: 31, 33, 35, 30, 32, 36. Conduct an F-test at the 5%\nsignificance level to determine if the variances are significantly different.",
      "metadata": {}
    },
    {
      "cell_type": "markdown",
      "source": "\nTo conduct an F-test at the 5% significance level to determine if the variances of the two restaurant\n         waiting time population  are significantly differen\n    \n    1.Calculate the sample variances for each restaurant:\n        Restaurant A: s1^2 = 4.00\n        Restaurant B: s2^2 = 16.00\n    2.Calculate the F-statistic:\n         F = s2^2 / s1^2 = 16.00 / 4.00 = 4.00\n            \n    3.Find the critical value of F from the F-distribution table,\n        with degrees of freedom df_1 = n_1 - 1 = 7 - 1 = 6 and df_2 = n_2 - 1 = 6 - 1 = 5.\n        \n      At the 5% significance level, the critical value of F is 5.12.\n    \n    4.Compare the F-statistic to the critical value of F. \n        If the F-statistic is greater than the critical value of F, then we reject the null hypothesis \n        and conclude that the variances of the two restaurant waiting time populations are significantly different.\n        Otherwise, we fail to reject the null hypothesis and conclude that the variances of the two restaurant\n        waiting time populations are not significantly different.\n        \n     the F-statistic (4.00) is less than the critical value of F (5.12). Therefore,\n         we fail to reject the null hypothesis and conclude that the variances of the two restaurant\n          waiting time populations are not significantly different at the 5% significance level.  \n            \n        Conclusion:\n            There is not enough evidence to conclude that the variances of the two restaurant waiting time \n            populations are significantly different at the 5% significance level.",
      "metadata": {}
    },
    {
      "cell_type": "markdown",
      "source": "Q9. The following data represent the test scores of two groups of students: Group A: 80, 85, 90, 92, 87, 83;\nGroup B: 75, 78, 82, 79, 81, 84. Conduct an F-test at the 1% significance level to determine if the variances\nare significantly different.",
      "metadata": {}
    },
    {
      "cell_type": "markdown",
      "source": " F-test at the 1% significance level to determine if the variances of the two groups of student\n    test scores\n    are significantly different\n    \n    1.Calculate the sample variances for each group:\n        Group A: s1^2 = 11.00\n        Group B: s2^2 = 6.00\n    2.Calculate the F-statistic:\n        F = s2^2 / s1^2 = 6.00 / 11.00 = 0.55\n        \n    3.Find the critical value of F from the F-distribution table, \n    with degrees of freedom df_1 = n_1 - 1 = 6 - 1 = 5 and df_2 = n_2 - 1 = 6 - 1 = 5. \n    \n    At the 1% significance level, the critical value of F is 5.12.\n    \n    4.Compare the F-statistic to the critical value of F. If the F-statistic is greater than the critical value of F,\n       then we reject the null hypothesis and conclude that the variances of the two groups of student test scores\n        are significantly different. Otherwise, we fail to reject the null hypothesis and conclude that the variances\n        of the two groups of student test scores are not significantly different.\n        \n        \n       the F-statistic (0.55) is less than the critical value of F (5.12). Therefore, we fail to reject the null\n       hypothesis and conclude that the variances of the two groups of student test scores are not significantly \n        different at the 1% significance level.\n        \n       Conclusion:\n        There is not enough evidence to conclude that the variances of the two groups of student test scores\n        are significantly different at the 1% significance level.\n        \n      Interpretation:\n        This means that we cannot say with 99% confidence that the variances of the two groups of student test scores \n        are different.\n           However, we should note that the sample variance for Group B (6.00) is slightly lower than the sample\n            variance for Group A (11.00). This suggests that the variance of the test scores for Group B may be \n            slightly lower than the variance of the test scores for Group A.\n            \n            \n            ",
      "metadata": {}
    },
    {
      "cell_type": "code",
      "source": "",
      "metadata": {},
      "execution_count": null,
      "outputs": []
    }
  ]
}